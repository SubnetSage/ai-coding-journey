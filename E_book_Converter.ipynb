{
  "nbformat": 4,
  "nbformat_minor": 0,
  "metadata": {
    "colab": {
      "provenance": [],
      "authorship_tag": "ABX9TyNyPKTL/dltObkUFVFC6jgt",
      "include_colab_link": true
    },
    "kernelspec": {
      "name": "python3",
      "display_name": "Python 3"
    },
    "language_info": {
      "name": "python"
    }
  },
  "cells": [
    {
      "cell_type": "markdown",
      "metadata": {
        "id": "view-in-github",
        "colab_type": "text"
      },
      "source": [
        "<a href=\"https://colab.research.google.com/github/SubnetSage/ai-coding-journey/blob/main/E_book_Converter.ipynb\" target=\"_parent\"><img src=\"https://colab.research.google.com/assets/colab-badge.svg\" alt=\"Open In Colab\"/></a>"
      ]
    },
    {
      "cell_type": "code",
      "execution_count": null,
      "metadata": {
        "id": "2mpHOLMhJZ1X"
      },
      "outputs": [],
      "source": [
        "#Run this cell first\n",
        "!pip install PyPDF2\n",
        "!pip install crewai\n",
        "!pip install langchain\n",
        "!pip install langchain-community\n",
        "!pip install ollama"
      ]
    },
    {
      "cell_type": "code",
      "source": [
        "import time\n",
        "from crewai import Agent, Task, Crew\n",
        "from crewai_tools import tool\n",
        "from langchain_community.llms import Ollama\n",
        "from PyPDF2 import PdfReader\n",
        "\n",
        "# Initialize the LLM model\n",
        "ollama_llm = Ollama(model=\"llama3.1\")\n",
        "\n",
        "# Function to read and convert each page of the PDF into a course module\n",
        "def convert_pdf_to_module(file_path, llm_model):\n",
        "    reader = PdfReader(file_path)\n",
        "    modules = []\n",
        "    for i, page in enumerate(reader.pages):\n",
        "        text = page.extract_text()\n",
        "        if text:\n",
        "            response = llm_model.generate(prompts=[f\"Convert the following text into a course module:\\n\\n{text}\"])\n",
        "            module = response.generations[0][0].text\n",
        "            modules.append(f\"Module {i+1}:\\n{module}\\n\")\n",
        "    return \"\\n\".join(modules)\n",
        "\n",
        "# Track the start time\n",
        "start_time = time.time()\n",
        "\n",
        "# Load the document and convert each page into a module\n",
        "pdf_modules = convert_pdf_to_module(\"marketing_materials.pdf\", ollama_llm)\n",
        "\n",
        "# Track the end time\n",
        "end_time = time.time()\n",
        "elapsed_time = end_time - start_time\n",
        "elapsed_minutes = elapsed_time / 60\n",
        "\n",
        "# Print the elapsed time\n",
        "print(f\"Script took {elapsed_minutes:.2f} minutes to run.\")\n",
        "\n",
        "# Define the course module tool function\n",
        "@tool(\"PDF_to_Module\")\n",
        "def pdf_to_module_tool(pdf_path: str) -> str:\n",
        "    \"\"\"This tool converts the content of a given PDF file into course modules.\"\"\"\n",
        "    return convert_pdf_to_module(pdf_path, ollama_llm)\n",
        "\n",
        "# Template for agent creation\n",
        "def create_agent(role, goal, backstory, tools, llm, verbose=True, allow_delegation=True):\n",
        "    return Agent(\n",
        "        role=role,\n",
        "        goal=goal,\n",
        "        backstory=backstory,\n",
        "        tools=tools,\n",
        "        llm=llm,\n",
        "        verbose=verbose,\n",
        "        allow_delegation=allow_delegation\n",
        "    )\n",
        "\n",
        "# Template for task creation\n",
        "def create_task(agent, description, expected_output):\n",
        "    return Task(\n",
        "        agent=agent,\n",
        "        description=description,\n",
        "        expected_output=expected_output\n",
        "    )\n",
        "\n",
        "pdf_to_module_role = 'Instructional Designer'\n",
        "pdf_to_module_goal = 'Convert each page of the provided PDF into a course module.'\n",
        "pdf_to_module_backstory = f\"\"\"\n",
        "    You are an instructional designer with extensive experience in creating educational content.\n",
        "    Your task is to read and rewrite each page of the given PDF document, converting it into a structured and coherent course module.\n",
        "    Ensure that the content is clear, educational, and engaging, with practical examples and exercises to reinforce learning.\n",
        "    Here is the guide for reference: {pdf_modules[:500]}... (truncated)\n",
        "\"\"\"\n",
        "\n",
        "pdf_to_module_tools = [pdf_to_module_tool]\n",
        "\n",
        "# Create the course module agent using the template\n",
        "pdf_to_module_agent = create_agent(pdf_to_module_role, pdf_to_module_goal, pdf_to_module_backstory, pdf_to_module_tools, ollama_llm)\n",
        "\n",
        "# Create the course module task using the template\n",
        "module_task = create_task(pdf_to_module_agent, \"Convert each page of the provided PDF document into a course module.\", \"A course module for each page of the PDF document.\")\n",
        "\n",
        "# Instantiate the Crew with the module creation process\n",
        "crew = Crew(\n",
        "    agents=[pdf_to_module_agent],\n",
        "    tasks=[module_task],\n",
        "    verbose=2  # Adjust the logging level as needed (1 or 2)\n",
        ")\n",
        "\n",
        "# Get the crew to start working on the module creation task\n",
        "results = crew.kickoff()\n",
        "\n",
        "# Extract the course modules from the task result\n",
        "final_modules = results[0].output\n",
        "\n",
        "# Print the final course modules\n",
        "print(final_modules)"
      ],
      "metadata": {
        "id": "4w5LKrOIJnNR"
      },
      "execution_count": null,
      "outputs": []
    },
    {
      "cell_type": "code",
      "source": [
        "'''\n",
        "YOU DO NOT NEED TO RUN THIS CELL!!!\n",
        "YOU DO NOT NEED TO RUN THIS CELL!!!\n",
        "You'll need Google Colab Pro to access the console and install Phi3 mini. Once you have console access, type \"ollama pull phi3\".\n",
        "This will download Microsoft's Phi3 mini model.\n",
        "After you have installed Phi3 successfully, right click anywhere in the blank space under \"sample_data\" upload your PDF and run the code above.\n",
        "I can not make any promises how fast this will work on large documents as I can't account for the hardware you choose to use.\n",
        "A normal PDF with a fewer than 20 pages might be alright to work with in this notebook.\n",
        "\n",
        "'''"
      ],
      "metadata": {
        "id": "ryRzwYs4KYzd"
      },
      "execution_count": null,
      "outputs": []
    },
    {
      "cell_type": "code",
      "source": [],
      "metadata": {
        "id": "Bal5p2l0Nt--"
      },
      "execution_count": null,
      "outputs": []
    }
  ]
}